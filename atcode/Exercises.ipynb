{
 "cells": [
  {
   "cell_type": "markdown",
   "metadata": {},
   "source": [
    "1\n",
    " 以上 \n",
    "N\n",
    " 以下の整数のうち、\n",
    "10\n",
    " 進法での各桁の和が \n",
    "A\n",
    " 以上 \n",
    "B\n",
    " 以下であるものの総和を求めてください。"
   ]
  },
  {
   "cell_type": "code",
   "execution_count": 65,
   "metadata": {},
   "outputs": [
    {
     "name": "stdin",
     "output_type": "stream",
     "text": [
      " 20 2 5\n"
     ]
    },
    {
     "name": "stdout",
     "output_type": "stream",
     "text": [
      "[1, 2, 3, 4, 5, 6, 7, 8, 9, 10, 11, 12, 13, 14, 15, 16, 17, 18, 19, 20]\n",
      "['1']\n",
      "0\n",
      "1\n",
      "['2']\n",
      "1\n",
      "2\n",
      "2\n",
      "2\n",
      "['3']\n",
      "2\n",
      "3\n",
      "3\n",
      "5\n",
      "['4']\n",
      "3\n",
      "4\n",
      "4\n",
      "9\n",
      "['5']\n",
      "4\n",
      "5\n",
      "5\n",
      "14\n",
      "['6']\n",
      "5\n",
      "6\n",
      "['7']\n",
      "6\n",
      "7\n",
      "['8']\n",
      "7\n",
      "8\n",
      "['9']\n",
      "8\n",
      "9\n",
      "['1', '0']\n",
      "9\n",
      "1\n",
      "1\n",
      "['1', '1']\n",
      "10\n",
      "1\n",
      "2\n",
      "11\n",
      "25\n",
      "['1', '2']\n",
      "11\n",
      "1\n",
      "3\n",
      "12\n",
      "37\n",
      "['1', '3']\n",
      "12\n",
      "1\n",
      "4\n",
      "13\n",
      "50\n",
      "['1', '4']\n",
      "13\n",
      "1\n",
      "5\n",
      "14\n",
      "64\n",
      "['1', '5']\n",
      "14\n",
      "1\n",
      "6\n",
      "['1', '6']\n",
      "15\n",
      "1\n",
      "7\n",
      "['1', '7']\n",
      "16\n",
      "1\n",
      "8\n",
      "['1', '8']\n",
      "17\n",
      "1\n",
      "9\n",
      "['1', '9']\n",
      "18\n",
      "1\n",
      "10\n",
      "['2', '0']\n",
      "19\n",
      "2\n",
      "2\n",
      "20\n",
      "84\n",
      "84\n"
     ]
    }
   ],
   "source": [
    "#検証用に各項目の数字の変化を見えるかしたコード\n",
    "\n",
    "#N,A,Bを入力\n",
    "N,A,B = map(int, input().split())\n",
    "\n",
    "y_sum = 0\n",
    "i = -1\n",
    "list_N = list(range(1,N+1))\n",
    "print(list_N)\n",
    "\n",
    "#リストの数字を取り出す。\n",
    "for z in list_N:\n",
    "    list_s = list(str(z))\n",
    "    print(list_s)\n",
    "    i = i+1\n",
    "    print(i)\n",
    "    \n",
    "    x_sum = 0\n",
    "    \n",
    "    #取り出した数字の各桁の和を算出して条件に合致したら元の数を足す。\n",
    "    for x in list_s:\n",
    "        x_int = int(x)\n",
    "        x_sum += x_int\n",
    "        print(x_sum)\n",
    "    if A <= x_sum and x_sum <= B:\n",
    "        print(list_N[i])\n",
    "        y_sum += list_N[i]\n",
    "        print(y_sum)\n",
    "    else:\n",
    "        continue\n",
    "else:\n",
    "    print(y_sum)"
   ]
  },
  {
   "cell_type": "code",
   "execution_count": 66,
   "metadata": {},
   "outputs": [
    {
     "name": "stdin",
     "output_type": "stream",
     "text": [
      " 20 2 5\n"
     ]
    },
    {
     "name": "stdout",
     "output_type": "stream",
     "text": [
      "84\n"
     ]
    }
   ],
   "source": [
    "N,A,B = map(int, input().split())\n",
    "\n",
    "y_sum = 0\n",
    "list_N = list(range(1,N+1))\n",
    "i = -1\n",
    "\n",
    "for z in list_N:\n",
    "    list_s = list(str(z))\n",
    "    i = i+1\n",
    "    \n",
    "    x_sum = 0\n",
    "    for x in list_s:\n",
    "        x_int = int(x)\n",
    "        x_sum += x_int\n",
    "    if A <= x_sum and x_sum <= B:\n",
    "        y_sum += list_N[i]\n",
    "    else:\n",
    "        continue\n",
    "else:\n",
    "    print(y_sum)"
   ]
  },
  {
   "cell_type": "markdown",
   "metadata": {},
   "source": [
    "### ABC088B - Card Game for Two / \n",
    "\n",
    "N\n",
    "  枚のカードがあります. \n",
    "i\n",
    " 枚目のカードには, \n",
    "a\n",
    "i\n",
    " という数が書かれています.\n",
    "Alice と Bob は, これらのカードを使ってゲームを行います. ゲームでは, Alice と Bob が交互に 1 枚ずつカードを取っていきます. Alice が先にカードを取ります.\n",
    "2 人がすべてのカードを取ったときゲームは終了し, 取ったカードの数の合計がその人の得点になります. 2 人とも自分の得点を最大化するように最適な戦略を取った時, Alice は Bob より何点多く取るか求めてください."
   ]
  },
  {
   "cell_type": "markdown",
   "metadata": {},
   "source": [
    "memo\n",
    "リストに格納した数字を一回降順に並べ替えてAliceとBobで交互に足して最後に引く"
   ]
  },
  {
   "cell_type": "code",
   "execution_count": 1,
   "metadata": {},
   "outputs": [
    {
     "name": "stdin",
     "output_type": "stream",
     "text": [
      " 2\n",
      " 1 2 3\n"
     ]
    }
   ],
   "source": [
    "N = int(input())\n",
    "a = [N]\n",
    "a = map(int, input().split())"
   ]
  },
  {
   "cell_type": "code",
   "execution_count": null,
   "metadata": {},
   "outputs": [],
   "source": [
    "#基本選択法のアルゴリズム\n",
    "def SelectionSort(int a[],int n):\n",
    "    int o,j,max_id\n",
    "    int tmp\n",
    "    for "
   ]
  },
  {
   "cell_type": "code",
   "execution_count": 10,
   "metadata": {},
   "outputs": [
    {
     "name": "stdin",
     "output_type": "stream",
     "text": [
      " 2\n",
      " 3 4 1\n"
     ]
    },
    {
     "name": "stdout",
     "output_type": "stream",
     "text": [
      "0\n",
      "0\n",
      "2\n",
      "2\n"
     ]
    }
   ],
   "source": [
    "#a[max_id]とa[i]を比較して移動させるアルゴリズム\n",
    "N = int(input())\n",
    "a = [N]\n",
    "a = list(map(int, input().split()))\n",
    "\n",
    "max_id=0\n",
    "for a_comparison in a:\n",
    "    print(max_id)\n",
    "    \n",
    "    if a[max_id]<a_comparison:\n",
    "        max_id = N\n",
    "        print(max_id)\n",
    "    \n",
    "    tmp=a_max\n",
    "    a_max=a[max_id]\n",
    "    a[max_id]=tmp"
   ]
  },
  {
   "cell_type": "code",
   "execution_count": 8,
   "metadata": {},
   "outputs": [
    {
     "name": "stdin",
     "output_type": "stream",
     "text": [
      " 2\n",
      " 3 4 5\n"
     ]
    },
    {
     "data": {
      "text/plain": [
       "[3, 4, 5]"
      ]
     },
     "execution_count": 8,
     "metadata": {},
     "output_type": "execute_result"
    }
   ],
   "source": [
    "N = int(input())\n",
    "a = [N]\n",
    "a = list(map(int, input().split()))\n",
    "a"
   ]
  },
  {
   "cell_type": "code",
   "execution_count": 82,
   "metadata": {},
   "outputs": [
    {
     "name": "stdout",
     "output_type": "stream",
     "text": [
      "max_id比較前: 0\n",
      "max_id比較後: 1\n",
      "max_id比較前: 1\n",
      "max_id比較前: 1\n",
      "max_id比較後: 3\n",
      "a[j]変換前: 5\n",
      "a[max_id]変換前: 5\n",
      "a[j]変換後: 5\n",
      "a[max_id]変換後: 5\n",
      "max_id比較前: 0\n",
      "max_id比較後: 1\n",
      "max_id比較前: 1\n",
      "max_id比較前: 1\n",
      "a[j]変換前: 1\n",
      "a[max_id]変換前: 4\n",
      "a[j]変換後: 4\n",
      "a[max_id]変換後: 1\n",
      "max_id比較前: 0\n",
      "max_id比較前: 0\n",
      "a[j]変換前: 1\n",
      "a[max_id]変換前: 3\n",
      "a[j]変換後: 3\n",
      "a[max_id]変換後: 1\n",
      "max_id比較前: 0\n",
      "a[j]変換前: 1\n",
      "a[max_id]変換前: 1\n",
      "a[j]変換後: 1\n",
      "a[max_id]変換後: 1\n"
     ]
    },
    {
     "data": {
      "text/plain": [
       "[1, 3, 4, 5]"
      ]
     },
     "execution_count": 82,
     "metadata": {},
     "output_type": "execute_result"
    }
   ],
   "source": [
    "a = [3,4,1,5]\n",
    "\n",
    "for a_max in reversed(a):\n",
    "    j = a.index(a_max)\n",
    "    max_id=0\n",
    "    for i,a_comparison in enumerate(a[1:],1):\n",
    "        print(\"max_id比較前: {}\".format(max_id))\n",
    "        if  i <= a.index(a_max):\n",
    "            if a[max_id] < a_comparison:\n",
    "                max_id = i\n",
    "                print(\"max_id比較後: {}\".format(max_id))\n",
    "        else:\n",
    "            break\n",
    "    \n",
    "    print(\"a[j]変換前: {}\".format(a[j]))\n",
    "    print(\"a[max_id]変換前: {}\".format(a[max_id]))\n",
    "    tmp=a[j]\n",
    "    a[j]=a[max_id]\n",
    "    a[max_id]=tmp\n",
    "    print(\"a[j]変換後: {}\".format(a[j]))\n",
    "    print(\"a[max_id]変換後: {}\".format(a[max_id]))\n",
    "    \n",
    "a  "
   ]
  },
  {
   "cell_type": "code",
   "execution_count": 34,
   "metadata": {},
   "outputs": [
    {
     "name": "stdout",
     "output_type": "stream",
     "text": [
      "0\n",
      "<class 'int'>\n",
      "1\n",
      "<class 'int'>\n",
      "2\n",
      "<class 'int'>\n",
      "3\n",
      "<class 'int'>\n"
     ]
    },
    {
     "data": {
      "text/plain": [
       "int"
      ]
     },
     "execution_count": 34,
     "metadata": {},
     "output_type": "execute_result"
    }
   ],
   "source": [
    "a = [3,4,1,5]\n",
    "\n",
    "for a_comparison in a:\n",
    "    print(a.index(a_comparison))\n",
    "    print(type(a_comparison))\n",
    "    \n",
    "type(a[0])"
   ]
  },
  {
   "cell_type": "code",
   "execution_count": 70,
   "metadata": {},
   "outputs": [
    {
     "name": "stdout",
     "output_type": "stream",
     "text": [
      "5\n",
      "3\n",
      "[3, 4, 1, 5]\n",
      "1\n",
      "2\n",
      "[3, 4, 1, 5]\n",
      "4\n",
      "1\n",
      "[3, 4, 1, 5]\n",
      "3\n",
      "0\n",
      "[3, 4, 1, 5]\n"
     ]
    }
   ],
   "source": [
    "a = [3,4,1,5]\n",
    "\n",
    "for a_max in reversed (a):\n",
    "    print(a_max)\n",
    "    print(a.index(a_max))\n",
    "    print(a)"
   ]
  },
  {
   "cell_type": "code",
   "execution_count": null,
   "metadata": {},
   "outputs": [],
   "source": []
  }
 ],
 "metadata": {
  "kernelspec": {
   "display_name": "Python 3",
   "language": "python",
   "name": "python3"
  },
  "language_info": {
   "codemirror_mode": {
    "name": "ipython",
    "version": 3
   },
   "file_extension": ".py",
   "mimetype": "text/x-python",
   "name": "python",
   "nbconvert_exporter": "python",
   "pygments_lexer": "ipython3",
   "version": "3.7.3"
  }
 },
 "nbformat": 4,
 "nbformat_minor": 4
}
