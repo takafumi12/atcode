{
 "cells": [
  {
   "cell_type": "markdown",
   "metadata": {},
   "source": [
    "1\n",
    " 以上 \n",
    "N\n",
    " 以下の整数のうち、\n",
    "10\n",
    " 進法での各桁の和が \n",
    "A\n",
    " 以上 \n",
    "B\n",
    " 以下であるものの総和を求めてください。"
   ]
  },
  {
   "cell_type": "code",
   "execution_count": 3,
   "metadata": {},
   "outputs": [
    {
     "name": "stdin",
     "output_type": "stream",
     "text": [
      " 20 5 2\n"
     ]
    },
    {
     "name": "stdout",
     "output_type": "stream",
     "text": [
      "[1, 2, 3, 4, 5, 6, 7, 8, 9, 10, 11, 12, 13, 14, 15, 16, 17, 18, 19, 20]\n",
      "['1']\n",
      "0\n",
      "1\n",
      "['2']\n",
      "1\n",
      "2\n",
      "['3']\n",
      "2\n",
      "3\n",
      "['4']\n",
      "3\n",
      "4\n",
      "['5']\n",
      "4\n",
      "5\n",
      "['6']\n",
      "5\n",
      "6\n",
      "['7']\n",
      "6\n",
      "7\n",
      "['8']\n",
      "7\n",
      "8\n",
      "['9']\n",
      "8\n",
      "9\n",
      "['1', '0']\n",
      "9\n",
      "1\n",
      "1\n",
      "['1', '1']\n",
      "10\n",
      "1\n",
      "2\n",
      "['1', '2']\n",
      "11\n",
      "1\n",
      "3\n",
      "['1', '3']\n",
      "12\n",
      "1\n",
      "4\n",
      "['1', '4']\n",
      "13\n",
      "1\n",
      "5\n",
      "['1', '5']\n",
      "14\n",
      "1\n",
      "6\n",
      "['1', '6']\n",
      "15\n",
      "1\n",
      "7\n",
      "['1', '7']\n",
      "16\n",
      "1\n",
      "8\n",
      "['1', '8']\n",
      "17\n",
      "1\n",
      "9\n",
      "['1', '9']\n",
      "18\n",
      "1\n",
      "10\n",
      "['2', '0']\n",
      "19\n",
      "2\n",
      "2\n",
      "0\n"
     ]
    }
   ],
   "source": [
    "#検証用に各項目の数字の変化を見えるかしたコード\n",
    "\n",
    "#N,A,Bを入力\n",
    "N,A,B = map(int, input().split())\n",
    "\n",
    "y_sum = 0\n",
    "i = -1\n",
    "list_N = list(range(1,N+1))\n",
    "print(list_N)\n",
    "\n",
    "#リストの数字を取り出す。\n",
    "for z in list_N:\n",
    "    list_s = list(str(z))\n",
    "    print(list_s)\n",
    "    i = i+1\n",
    "    print(i)\n",
    "    \n",
    "    x_sum = 0\n",
    "    \n",
    "    #取り出した数字の各桁の和を算出して条件に合致したら元の数を足す。\n",
    "    for x in list_s:\n",
    "        x_int = int(x)\n",
    "        x_sum += x_int\n",
    "        print(x_sum)\n",
    "    if A <= x_sum and x_sum <= B:\n",
    "        print(list_N[i])\n",
    "        y_sum += list_N[i]\n",
    "        print(y_sum)\n",
    "    else:\n",
    "        continue\n",
    "else:\n",
    "    print(y_sum)"
   ]
  },
  {
   "cell_type": "code",
   "execution_count": 66,
   "metadata": {},
   "outputs": [
    {
     "name": "stdin",
     "output_type": "stream",
     "text": [
      " 20 2 5\n"
     ]
    },
    {
     "name": "stdout",
     "output_type": "stream",
     "text": [
      "84\n"
     ]
    }
   ],
   "source": [
    "N,A,B = map(int, input().split())\n",
    "\n",
    "y_sum = 0\n",
    "list_N = list(range(1,N+1))\n",
    "i = -1\n",
    "\n",
    "for z in list_N:\n",
    "    list_s = list(str(z))\n",
    "    i = i+1\n",
    "    \n",
    "    x_sum = 0\n",
    "    for x in list_s:\n",
    "        x_int = int(x)\n",
    "        x_sum += x_int\n",
    "    if A <= x_sum and x_sum <= B:\n",
    "        y_sum += list_N[i]\n",
    "    else:\n",
    "        continue\n",
    "else:\n",
    "    print(y_sum)"
   ]
  },
  {
   "cell_type": "markdown",
   "metadata": {},
   "source": [
    "### ABC088B - Card Game for Two / \n",
    "\n",
    "N\n",
    "  枚のカードがあります. \n",
    "i\n",
    " 枚目のカードには, \n",
    "a\n",
    "i\n",
    " という数が書かれています.\n",
    "Alice と Bob は, これらのカードを使ってゲームを行います. ゲームでは, Alice と Bob が交互に 1 枚ずつカードを取っていきます. Alice が先にカードを取ります.\n",
    "2 人がすべてのカードを取ったときゲームは終了し, 取ったカードの数の合計がその人の得点になります. 2 人とも自分の得点を最大化するように最適な戦略を取った時, Alice は Bob より何点多く取るか求めてください."
   ]
  },
  {
   "cell_type": "markdown",
   "metadata": {},
   "source": [
    "memo\n",
    "リストに格納した数字を一回降順に並べ替えてAliceとBobで交互に足して最後に引く"
   ]
  },
  {
   "cell_type": "code",
   "execution_count": 11,
   "metadata": {},
   "outputs": [
    {
     "name": "stdout",
     "output_type": "stream",
     "text": [
      "a[j]変換前: 50\n",
      "a[max_id]変換前: 20\n",
      "a変換前: [20, 100, 18, 2, 18, 50]\n",
      "max_id比較前: 0\n",
      "a[max_id]比較中: 20\n",
      "a_comparison比較中: 100\n",
      "max_id比較後: 1\n",
      "max_id比較前: 1\n",
      "max_id比較前: 1\n",
      "max_id比較前: 1\n",
      "max_id比較前: 1\n",
      "a[j]変換後: 100\n",
      "a[max_id]変換後: 50\n",
      "a変換後: [20, 50, 18, 2, 18, 100]\n",
      "a[j]変換前: 18\n",
      "a[max_id]変換前: 20\n",
      "a変換前: [20, 50, 18, 2, 18, 100]\n",
      "max_id比較前: 0\n",
      "a[max_id]比較中: 20\n",
      "a_comparison比較中: 50\n",
      "max_id比較後: 1\n",
      "max_id比較前: 1\n",
      "max_id比較前: 1\n",
      "max_id比較前: 1\n",
      "a[j]変換後: 50\n",
      "a[max_id]変換後: 18\n",
      "a変換後: [20, 18, 18, 2, 50, 100]\n",
      "a[j]変換前: 2\n",
      "a[max_id]変換前: 20\n",
      "a変換前: [20, 18, 18, 2, 50, 100]\n",
      "max_id比較前: 0\n",
      "max_id比較前: 0\n",
      "max_id比較前: 0\n",
      "a[j]変換後: 20\n",
      "a[max_id]変換後: 2\n",
      "a変換後: [2, 18, 18, 20, 50, 100]\n",
      "a[j]変換前: 18\n",
      "a[max_id]変換前: 2\n",
      "a変換前: [2, 18, 18, 20, 50, 100]\n",
      "max_id比較前: 0\n",
      "a[max_id]比較中: 2\n",
      "a_comparison比較中: 18\n",
      "max_id比較後: 1\n",
      "max_id比較前: 1\n",
      "a[j]変換後: 18\n",
      "a[max_id]変換後: 18\n",
      "a変換後: [2, 18, 18, 20, 50, 100]\n",
      "a[j]変換前: 18\n",
      "a[max_id]変換前: 2\n",
      "a変換前: [2, 18, 18, 20, 50, 100]\n",
      "max_id比較前: 0\n",
      "a[max_id]比較中: 2\n",
      "a_comparison比較中: 18\n",
      "max_id比較後: 1\n",
      "a[j]変換後: 18\n",
      "a[max_id]変換後: 18\n",
      "a変換後: [2, 18, 18, 20, 50, 100]\n",
      "a[j]変換前: 2\n",
      "a[max_id]変換前: 2\n",
      "a変換前: [2, 18, 18, 20, 50, 100]\n",
      "a[j]変換後: 2\n",
      "a[max_id]変換後: 2\n",
      "a変換後: [2, 18, 18, 20, 50, 100]\n"
     ]
    },
    {
     "data": {
      "text/plain": [
       "[2, 18, 18, 20, 50, 100]"
      ]
     },
     "execution_count": 11,
     "metadata": {},
     "output_type": "execute_result"
    }
   ],
   "source": [
    "a = [20, 100, 18, 2, 18, 50]\n",
    "N = 5\n",
    "\n",
    "for a_max in reversed(a):\n",
    "    j = N\n",
    "    max_id=0\n",
    "    print(\"a[j]変換前: {}\".format(a[j]))\n",
    "    print(\"a[max_id]変換前: {}\".format(a[max_id]))\n",
    "    print(\"a変換前: {}\".format(a))\n",
    "    for i,a_comparison in enumerate(a[1:N+1],1):\n",
    "        print(\"max_id比較前: {}\".format(max_id))\n",
    "        if  i <= N:\n",
    "            if a[max_id] < a_comparison:\n",
    "                print(\"a[max_id]比較中: {}\".format(a[max_id]))\n",
    "                print(\"a_comparison比較中: {}\".format(a_comparison))\n",
    "                max_id = i\n",
    "                print(\"max_id比較後: {}\".format(max_id))\n",
    "        else:\n",
    "            print(\"breakします\")\n",
    "            break\n",
    "    tmp=a[j]\n",
    "    a[j]=a[max_id]\n",
    "    a[max_id]=tmp\n",
    "    N = N-1\n",
    "    print(\"a[j]変換後: {}\".format(a[j]))\n",
    "    print(\"a[max_id]変換後: {}\".format(a[max_id]))\n",
    "    print(\"a変換後: {}\".format(a))\n",
    "    \n",
    "a  "
   ]
  },
  {
   "cell_type": "code",
   "execution_count": 13,
   "metadata": {},
   "outputs": [
    {
     "name": "stdout",
     "output_type": "stream",
     "text": [
      "[2, 18, 18, 20, 50, 100]\n",
      "68\n"
     ]
    }
   ],
   "source": [
    "N = int(input())\n",
    "a = list(map(int, input().split()))\n",
    "n = N-1\n",
    "\n",
    "for a_max in reversed(a):\n",
    "    j = n\n",
    "    max_id=0\n",
    "    for i,a_comparison in enumerate(a[1:n+1],1):\n",
    "        if  i <= n:\n",
    "            if a[max_id] < a_comparison:\n",
    "                max_id = i\n",
    "        else:\n",
    "            break\n",
    "    \n",
    "    tmp=a[j]\n",
    "    a[j]=a[max_id]\n",
    "    a[max_id]=tmp\n",
    "    n = n-1\n",
    "\n",
    "print(a)\n",
    "\n",
    "s=0\n",
    "b=0\n",
    "for k in range(N):\n",
    "    if k%2==0:\n",
    "        s+=a[k]\n",
    "    else:\n",
    "        b+=a[k]\n",
    " \n",
    "print(max(s,b)-min(s,b))"
   ]
  },
  {
   "cell_type": "code",
   "execution_count": 1,
   "metadata": {},
   "outputs": [
    {
     "name": "stdin",
     "output_type": "stream",
     "text": [
      " 4\n",
      " 30 18 25 18\n"
     ]
    },
    {
     "name": "stdout",
     "output_type": "stream",
     "text": [
      "5\n"
     ]
    }
   ],
   "source": [
    "n=int(input())\n",
    "li = list(map(int,input().split()))\n",
    "li.sort()\n",
    "a=0\n",
    "b=0\n",
    "for k in range(n):\n",
    "    if k%2==0:\n",
    "        a+=li[k]\n",
    "    else:\n",
    "        b+=li[k]\n",
    " \n",
    "print(max(a,b)-min(a,b))"
   ]
  },
  {
   "cell_type": "markdown",
   "metadata": {},
   "source": [
    "X\n",
    " 段重ねの鏡餅 \n",
    "(\n",
    "X\n",
    "≥\n",
    "1\n",
    ")\n",
    " とは、\n",
    "X\n",
    " 枚の円形の餅を縦に積み重ねたものであって、どの餅もその真下の餅より直径が小さい（一番下の餅を除く）もののことです。例えば、直径 \n",
    "10\n",
    "、\n",
    "8\n",
    "、\n",
    "6\n",
    " センチメートルの餅をこの順に下から積み重ねると \n",
    "3\n",
    " 段重ねの鏡餅になり、餅を一枚だけ置くと \n",
    "1\n",
    " 段重ねの鏡餅になります。\n",
    "\n",
    "ダックスフンドのルンルンは \n",
    "N\n",
    " 枚の円形の餅を持っていて、そのうち \n",
    "i\n",
    " 枚目の餅の直径は \n",
    "d\n",
    "i\n",
    " センチメートルです。これらの餅のうち一部または全部を使って鏡餅を作るとき、最大で何段重ねの鏡餅を作ることができるでしょうか。\n",
    " "
   ]
  },
  {
   "cell_type": "code",
   "execution_count": 11,
   "metadata": {},
   "outputs": [
    {
     "name": "stdin",
     "output_type": "stream",
     "text": [
      " 3\n",
      " 10\n",
      " 12\n",
      " 10\n"
     ]
    },
    {
     "name": "stdout",
     "output_type": "stream",
     "text": [
      "2\n"
     ]
    }
   ],
   "source": [
    "import collections\n",
    "\n",
    "n=int(input())\n",
    "li=[]\n",
    "ans=1\n",
    "for i in range(n):\n",
    "    li.append(int(input()))\n",
    "    \n",
    "def count(li):\n",
    "    c = collections.Counter(li)\n",
    "    return print(len(c))\n",
    "\n",
    "count(li)"
   ]
  },
  {
   "cell_type": "markdown",
   "metadata": {},
   "source": [
    "日本でよく使われる紙幣は、\n",
    "10000\n",
    " 円札、\n",
    "5000\n",
    " 円札、\n",
    "1000\n",
    " 円札です。以下、「お札」とはこれらのみを指します。\n",
    "\n",
    "青橋くんが言うには、彼が祖父から受け取ったお年玉袋にはお札が \n",
    "N\n",
    " 枚入っていて、合計で \n",
    "Y\n",
    " 円だったそうですが、嘘かもしれません。このような状況がありうるか判定し、ありうる場合はお年玉袋の中身の候補を一つ見つけてください。なお、彼の祖父は十分裕福であり、お年玉袋は十分大きかったものとします。"
   ]
  },
  {
   "cell_type": "markdown",
   "metadata": {},
   "source": [
    "出力\n",
    "N\n",
    " 枚のお札の合計金額が \n",
    "Y\n",
    " 円となることがありえない場合は、-1 -1 -1 と出力せよ。\n",
    "\n",
    "N\n",
    " 枚のお札の合計金額が \n",
    "Y\n",
    " 円となることがありうる場合は、そのような \n",
    "N\n",
    " 枚のお札の組み合わせの一例を「\n",
    "10000\n",
    " 円札 \n",
    "x\n",
    " 枚、\n",
    "5000\n",
    " 円札 \n",
    "y\n",
    " 枚、\n",
    "1000\n",
    " 円札 \n",
    "z\n",
    " 枚」として、\n",
    "x\n",
    "、\n",
    "y\n",
    "、\n",
    "z\n",
    " を空白で区切って出力せよ。複数の可能性が考えられるときは、そのうちどれを出力してもよい。"
   ]
  },
  {
   "cell_type": "code",
   "execution_count": 9,
   "metadata": {},
   "outputs": [
    {
     "name": "stdout",
     "output_type": "stream",
     "text": [
      "66000\n",
      "7\n",
      "56000\n",
      "6\n",
      "46000\n",
      "5\n",
      "36000\n",
      "4\n",
      "26000\n",
      "3\n",
      "16000\n",
      "2\n",
      "6000\n",
      "1\n",
      "1000\n",
      "0\n",
      "-1 -1 -1\n"
     ]
    }
   ],
   "source": [
    "N = 8\n",
    "Y = 76000\n",
    "\n",
    "a=b=c=0\n",
    "while(N>0):\n",
    "    if Y>=10000:\n",
    "        Y -= 10000\n",
    "        a += 1\n",
    "        N -= 1\n",
    "        print(Y)\n",
    "        print(N)\n",
    "    else:\n",
    "        \n",
    "        while(N>0):\n",
    "            if Y>=5000:\n",
    "                Y -= 5000\n",
    "                b += 1\n",
    "                N -= 1\n",
    "                print(Y)\n",
    "                print(N)\n",
    "            else:\n",
    "\n",
    "                while(N>0):\n",
    "                    if Y>=1000:\n",
    "                        Y -= 1000\n",
    "                        c += 1\n",
    "                        N -= 1\n",
    "                        print(Y)\n",
    "                        print(N)\n",
    "                    else:\n",
    "                        break\n",
    "\n",
    "if Y==0:\n",
    "    print(\"{0} {1} {2}\".format(a,b,c))\n",
    "else:\n",
    "    print(\"-1 -1 -1\")"
   ]
  },
  {
   "cell_type": "code",
   "execution_count": 6,
   "metadata": {},
   "outputs": [
    {
     "ename": "SyntaxError",
     "evalue": "'break' outside loop (<ipython-input-6-e4a1fc2c8b02>, line 34)",
     "output_type": "error",
     "traceback": [
      "\u001b[1;36m  File \u001b[1;32m\"<ipython-input-6-e4a1fc2c8b02>\"\u001b[1;36m, line \u001b[1;32m34\u001b[0m\n\u001b[1;33m    \u001b[0m\n\u001b[1;37m    ^\u001b[0m\n\u001b[1;31mSyntaxError\u001b[0m\u001b[1;31m:\u001b[0m 'break' outside loop\n"
     ]
    }
   ],
   "source": [
    "#N,Yを入力\n",
    "N,Y = map(int, input().split())\n",
    "\n",
    "def otoshidama(N,Y):\n",
    "    a=b=c=0\n",
    "    if Y%1000 ==0:\n",
    "        while(N>0):\n",
    "            if Y>=10000:\n",
    "                Y -= 10000\n",
    "                a += 1\n",
    "                N -= 1\n",
    "            elif Y==0:\n",
    "                break\n",
    "            else:\n",
    "                while(N>0):\n",
    "                    if Y>=5000:\n",
    "                        Y -= 5000\n",
    "                        b += 1\n",
    "                        N -= 1\n",
    "                    elif Y==0:\n",
    "                        break\n",
    "                    else:\n",
    "                        while(N>0):\n",
    "                            if Y>=1000:\n",
    "                                Y -= 1000\n",
    "                                c += 1\n",
    "                                N -= 1\n",
    "                            else:\n",
    "                                break\n",
    "    else:\n",
    "        break\n",
    "    \n",
    "    if Y==0:\n",
    "        s = print(\"{0} {1} {2}\".format(a,b,c))\n",
    "    else:\n",
    "        s = print(\"-1 -1 -1\")\n",
    "    return\n",
    "\n",
    "otoshidama(N,Y)"
   ]
  },
  {
   "cell_type": "code",
   "execution_count": null,
   "metadata": {},
   "outputs": [],
   "source": []
  }
 ],
 "metadata": {
  "kernelspec": {
   "display_name": "Python 3",
   "language": "python",
   "name": "python3"
  },
  "language_info": {
   "codemirror_mode": {
    "name": "ipython",
    "version": 3
   },
   "file_extension": ".py",
   "mimetype": "text/x-python",
   "name": "python",
   "nbconvert_exporter": "python",
   "pygments_lexer": "ipython3",
   "version": "3.7.3"
  }
 },
 "nbformat": 4,
 "nbformat_minor": 4
}
