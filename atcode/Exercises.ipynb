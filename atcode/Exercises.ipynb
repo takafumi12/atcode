{
 "cells": [
  {
   "cell_type": "markdown",
   "metadata": {},
   "source": [
    "1\n",
    " 以上 \n",
    "N\n",
    " 以下の整数のうち、\n",
    "10\n",
    " 進法での各桁の和が \n",
    "A\n",
    " 以上 \n",
    "B\n",
    " 以下であるものの総和を求めてください。"
   ]
  },
  {
   "cell_type": "code",
   "execution_count": 65,
   "metadata": {},
   "outputs": [
    {
     "name": "stdin",
     "output_type": "stream",
     "text": [
      " 20 2 5\n"
     ]
    },
    {
     "name": "stdout",
     "output_type": "stream",
     "text": [
      "[1, 2, 3, 4, 5, 6, 7, 8, 9, 10, 11, 12, 13, 14, 15, 16, 17, 18, 19, 20]\n",
      "['1']\n",
      "0\n",
      "1\n",
      "['2']\n",
      "1\n",
      "2\n",
      "2\n",
      "2\n",
      "['3']\n",
      "2\n",
      "3\n",
      "3\n",
      "5\n",
      "['4']\n",
      "3\n",
      "4\n",
      "4\n",
      "9\n",
      "['5']\n",
      "4\n",
      "5\n",
      "5\n",
      "14\n",
      "['6']\n",
      "5\n",
      "6\n",
      "['7']\n",
      "6\n",
      "7\n",
      "['8']\n",
      "7\n",
      "8\n",
      "['9']\n",
      "8\n",
      "9\n",
      "['1', '0']\n",
      "9\n",
      "1\n",
      "1\n",
      "['1', '1']\n",
      "10\n",
      "1\n",
      "2\n",
      "11\n",
      "25\n",
      "['1', '2']\n",
      "11\n",
      "1\n",
      "3\n",
      "12\n",
      "37\n",
      "['1', '3']\n",
      "12\n",
      "1\n",
      "4\n",
      "13\n",
      "50\n",
      "['1', '4']\n",
      "13\n",
      "1\n",
      "5\n",
      "14\n",
      "64\n",
      "['1', '5']\n",
      "14\n",
      "1\n",
      "6\n",
      "['1', '6']\n",
      "15\n",
      "1\n",
      "7\n",
      "['1', '7']\n",
      "16\n",
      "1\n",
      "8\n",
      "['1', '8']\n",
      "17\n",
      "1\n",
      "9\n",
      "['1', '9']\n",
      "18\n",
      "1\n",
      "10\n",
      "['2', '0']\n",
      "19\n",
      "2\n",
      "2\n",
      "20\n",
      "84\n",
      "84\n"
     ]
    }
   ],
   "source": [
    "#検証用に各項目の数字の変化を見えるかしたコード\n",
    "\n",
    "#N,A,Bを入力\n",
    "N,A,B = map(int, input().split())\n",
    "\n",
    "y_sum = 0\n",
    "i = -1\n",
    "list_N = list(range(1,N+1))\n",
    "print(list_N)\n",
    "\n",
    "#リストの数字を取り出す。\n",
    "for z in list_N:\n",
    "    list_s = list(str(z))\n",
    "    print(list_s)\n",
    "    i = i+1\n",
    "    print(i)\n",
    "    \n",
    "    x_sum = 0\n",
    "    \n",
    "    #取り出した数字の各桁の和を算出して条件に合致したら元の数を足す。\n",
    "    for x in list_s:\n",
    "        x_int = int(x)\n",
    "        x_sum += x_int\n",
    "        print(x_sum)\n",
    "    if A <= x_sum and x_sum <= B:\n",
    "        print(list_N[i])\n",
    "        y_sum += list_N[i]\n",
    "        print(y_sum)\n",
    "    else:\n",
    "        continue\n",
    "else:\n",
    "    print(y_sum)"
   ]
  },
  {
   "cell_type": "code",
   "execution_count": 66,
   "metadata": {},
   "outputs": [
    {
     "name": "stdin",
     "output_type": "stream",
     "text": [
      " 20 2 5\n"
     ]
    },
    {
     "name": "stdout",
     "output_type": "stream",
     "text": [
      "84\n"
     ]
    }
   ],
   "source": [
    "N,A,B = map(int, input().split())\n",
    "\n",
    "y_sum = 0\n",
    "list_N = list(range(1,N+1))\n",
    "i = -1\n",
    "\n",
    "for z in list_N:\n",
    "    list_s = list(str(z))\n",
    "    i = i+1\n",
    "    \n",
    "    x_sum = 0\n",
    "    for x in list_s:\n",
    "        x_int = int(x)\n",
    "        x_sum += x_int\n",
    "    if A <= x_sum and x_sum <= B:\n",
    "        y_sum += list_N[i]\n",
    "    else:\n",
    "        continue\n",
    "else:\n",
    "    print(y_sum)"
   ]
  }
 ],
 "metadata": {
  "kernelspec": {
   "display_name": "Python 3",
   "language": "python",
   "name": "python3"
  },
  "language_info": {
   "codemirror_mode": {
    "name": "ipython",
    "version": 3
   },
   "file_extension": ".py",
   "mimetype": "text/x-python",
   "name": "python",
   "nbconvert_exporter": "python",
   "pygments_lexer": "ipython3",
   "version": "3.7.3"
  }
 },
 "nbformat": 4,
 "nbformat_minor": 4
}
